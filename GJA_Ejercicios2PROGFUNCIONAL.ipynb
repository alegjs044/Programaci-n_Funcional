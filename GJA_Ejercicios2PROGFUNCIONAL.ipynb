{
 "cells": [
  {
   "cell_type": "markdown",
   "metadata": {},
   "source": [
    "# Lista de Ejercicios #2 para paradigma Funcional (Clojure)\n",
    "\n",
    "## Paradigmas de programación. Dra. Miriam Pescador Rojas\n",
    "\n",
    "13 de Octubre de 2021.\n",
    "\n",
    "- Nombre del estudiante: Guzman Jimenez Alejandra\n",
    "- Número de boleta: 2020630661\n",
    "\n",
    "**Instrucciones:** Lee cada uno de los ejercicios y realice su solución mediante código Clojure. Deberá realizar las pruebas solicitadas."
   ]
  },
  {
   "cell_type": "code",
   "execution_count": 270,
   "metadata": {},
   "outputs": [
    {
     "data": {
      "text/plain": [
       "nil"
      ]
     },
     "execution_count": 270,
     "metadata": {},
     "output_type": "execute_result"
    }
   ],
   "source": [
    ";; Dependencias de funciones que se requieren para operaciones de calculo de raíz y exponente\n",
    "(require '[clojure.test :refer [is]])\n",
    "(require '[cemerick.pomegranate :refer [add-dependencies]])\n",
    "(add-dependencies :coordinates '[[org.clojure/math.numeric-tower \"0.0.4\"]])\n",
    "(require '[clojure.math.numeric-tower :refer [sqrt expt]])"
   ]
  },
  {
   "cell_type": "markdown",
   "metadata": {},
   "source": [
    "---\n",
    "## Problema 1\n",
    "\n",
    "Implementar una función para calcular el numero de bytes dado un valor. \n",
    "La función recibe 2 parámetros [numero unidad].\n",
    "Ejemplos:\n",
    " 5 KB (cinco kilobytes), 6 MB (6 megabytes), 100 GB (cien gigabytes)\n",
    "\n",
    "Nota. Recordar que:\n",
    "\n",
    "- 1 KB (kibibyte) = $2^{10}$ bytes = 1,024 bytes\n",
    "- 1 MB (mebibyte) = $2^{20}$ bytes = 1,024 kibibytes\n",
    "- 1 GB (gibibyte) = $2^{30}$ bytes = 1,024 mebibytes\n",
    "\n",
    "(defn bytes [numero unidad]\n",
    "  ;; codigo a implementar\n",
    ")"
   ]
  },
  {
   "cell_type": "code",
   "execution_count": 31,
   "metadata": {},
   "outputs": [
    {
     "name": "stdout",
     "output_type": "stream",
     "text": [
      "5120 bytes\n",
      "6291456 bytes\n",
      "107374182400 bytes\n"
     ]
    },
    {
     "data": {
      "text/plain": [
       "nil"
      ]
     },
     "execution_count": 31,
     "metadata": {},
     "output_type": "execute_result"
    }
   ],
   "source": [
    "(defn Bytes [numero unidad]\n",
    "    (if (=\"KB\" unidad)\n",
    "        (println(* numero (expt 2 10))\"bytes\")\n",
    "    )\n",
    "    (if (=  \"MB\" unidad)\n",
    "        (println(* numero (expt 2 20))\"bytes\")\n",
    "    )\n",
    "    (if (=  \"GB\" unidad)\n",
    "        (println(* numero (expt 2 30))\"bytes\")\n",
    "    )\n",
    "   )\n",
    "(Bytes 5 \"KB\")\n",
    "(Bytes 6 \"MB\")\n",
    "(Bytes 100 \"GB\")\n",
    "\n",
    ";; Pruebas:\n",
    ";bytes [5 \"KB\"])\n",
    ";bytes [6 \"MB\"])\n",
    ";bytes [100 \"GB\"])"
   ]
  },
  {
   "cell_type": "markdown",
   "metadata": {},
   "source": [
    "---\n",
    "## Problema 2\n",
    "\n",
    "Implementar una función llamada FahrenheitCelsius que convierta un valor de temperatura de grados Fahrenheit a Celsius como sigue:\n",
    "\n",
    "**TIP:** Si $F$ es la temperatura en grados Fahrenheit, obtener  $C$ degrees Celsius usando la siguiente formula: \n",
    "\n",
    "$$\n",
    "C = \\frac{5 (F - 32)}{9}\n",
    "$$"
   ]
  },
  {
   "cell_type": "code",
   "execution_count": 58,
   "metadata": {},
   "outputs": [
    {
     "name": "stdout",
     "output_type": "stream",
     "text": [
      "37.77777777777778\n",
      "-17.77777777777778\n",
      "-40.0\n"
     ]
    },
    {
     "data": {
      "text/plain": [
       "nil"
      ]
     },
     "execution_count": 58,
     "metadata": {},
     "output_type": "execute_result"
    }
   ],
   "source": [
    "(defn fahrenheitCelsius [F]\n",
    " (println (/(* 5 (- F 32))9))\n",
    ")\n",
    "(fahrenheitCelsius 100.0)\n",
    "(fahrenheitCelsius 0.0)\n",
    "(fahrenheitCelsius -40.0)"
   ]
  },
  {
   "cell_type": "code",
   "execution_count": 55,
   "metadata": {},
   "outputs": [],
   "source": [
    "; Pruebas\n",
    ";(fahrenheitCelsius [100.0])\n",
    ";(fahrenheitCelsius [0.0])\n",
    ";(fahrenheitCelsius [-40.0])"
   ]
  },
  {
   "cell_type": "markdown",
   "metadata": {},
   "source": [
    "---\n",
    "## Problema 3\n",
    "\n",
    "Implementar una función llamada signo que reciba un valor entero $n$. La función regresa $-1$ si $n$ es negativo, 1 si $n$ es positivo y 0 si el valor es cero. "
   ]
  },
  {
   "cell_type": "code",
   "execution_count": 76,
   "metadata": {},
   "outputs": [
    {
     "name": "stdout",
     "output_type": "stream",
     "text": [
      "-1\n",
      "1\n",
      "0\n"
     ]
    },
    {
     "data": {
      "text/plain": [
       "nil"
      ]
     },
     "execution_count": 76,
     "metadata": {},
     "output_type": "execute_result"
    }
   ],
   "source": [
    "(defn signo [n]\n",
    "    (cond \n",
    "        (< n 0) \n",
    "        (println \"-1\")\n",
    "        (> n 0) \n",
    "        (println \"1\")\n",
    "        :else \n",
    "        (println \"0\")\n",
    "        )\n",
    "        )\n",
    "(signo -5.0)\n",
    "(signo 10.0)\n",
    "(signo 0.0)"
   ]
  },
  {
   "cell_type": "code",
   "execution_count": 72,
   "metadata": {},
   "outputs": [],
   "source": [
    ";; Pruebas:\n",
    ";(signo [-5.0])\n",
    ";(signo [10.0])\n",
    ";(signo [0.0])"
   ]
  },
  {
   "cell_type": "markdown",
   "metadata": {},
   "source": [
    "---\n",
    "## Problema 4\n",
    "\n",
    "Implementar una funcion llamada raices que regrese un vector que contenga las soluciones a una ecuación de segundo grado. Los datos de entrada serám  3 coeficientes ($a$, $b$, $c$) y se implementara la formula general:\n",
    "\n",
    "$$\n",
    "x=\\frac{-b\\pm \\sqrt{b^2-4ac}}{2a}\n",
    "$$\n",
    "\n",
    "**TIP:** Recuerde que se deben agregar las dependencia al método que calcula la raíz (`sqrt`) definida en el espacio de nombre `clojure.math). Esta dependencia se encuentra en la primer celda de este notebook."
   ]
  },
  {
   "cell_type": "code",
   "execution_count": 288,
   "metadata": {},
   "outputs": [
    {
     "name": "stderr",
     "output_type": "stream",
     "text": [
      "Execution error (ClassCastException) at user/raices (REPL:2).\n",
      "clojure.core$_ cannot be cast to java.lang.Number\n",
      "Execution error (ClassCastException) at user/raices (REPL:2).\n",
      "clojure.core$_ cannot be cast to java.lang.Number\n",
      "Execution error (ClassCastException) at user/raices (REPL:2).\n",
      "clojure.core$_ cannot be cast to java.lang.Number\n"
     ]
    },
    {
     "ename": "class java.lang.ClassCastException",
     "evalue": "",
     "output_type": "error",
     "traceback": [
      "Numbers.java:   153 clojure.lang.Numbers/add",
      "    core.clj:  3214 clojure.core$eval/invokeStatic",
      "    core.clj:  3210 clojure.core$eval/invoke",
      "    main.clj:   437 clojure.main$repl$read_eval_print__9086$fn__9089/invoke",
      "    main.clj:   458 clojure.main$repl$fn__9095/invoke",
      "    main.clj:   368 clojure.main$repl/doInvoke",
      " RestFn.java:  1523 clojure.lang.RestFn/invoke",
      "    AFn.java:    22 clojure.lang.AFn/run",
      "    AFn.java:    22 clojure.lang.AFn/run",
      " Thread.java:   745 java.lang.Thread/run"
     ]
    }
   ],
   "source": [
    "(defn raices[a b c]\n",
    " (/(+ - b( sqrt (-(expt b 2)(* 4 a c))))(* 2 a))\n",
    ")\n",
    "(raices 2 4 2)\n",
    "(raices 1 0 0)\n",
    "(raices 4 5 1)"
   ]
  },
  {
   "cell_type": "code",
   "execution_count": 283,
   "metadata": {},
   "outputs": [
    {
     "name": "stderr",
     "output_type": "stream",
     "text": [
      "Execution error (ArityException) at user/eval7856 (REPL:2).\n",
      "Wrong number of args (1) passed to: user/raices\n",
      "Execution error (ArityException) at user/eval7858 (REPL:3).\n",
      "Wrong number of args (1) passed to: user/raices\n",
      "Execution error (ArityException) at user/eval7860 (REPL:4).\n",
      "Wrong number of args (1) passed to: user/raices\n"
     ]
    },
    {
     "ename": "class clojure.lang.ArityException",
     "evalue": "",
     "output_type": "error",
     "traceback": [
      "   AFn.java:   429 clojure.lang.AFn/throwArity",
      "   AFn.java:    32 clojure.lang.AFn/invoke",
      "   core.clj:  3214 clojure.core$eval/invokeStatic",
      "   core.clj:  3210 clojure.core$eval/invoke",
      "   main.clj:   437 clojure.main$repl$read_eval_print__9086$fn__9089/invoke",
      "   main.clj:   458 clojure.main$repl$fn__9095/invoke",
      "   main.clj:   368 clojure.main$repl/doInvoke",
      "RestFn.java:  1523 clojure.lang.RestFn/invoke",
      "   AFn.java:    22 clojure.lang.AFn/run",
      "   AFn.java:    22 clojure.lang.AFn/run",
      "Thread.java:   745 java.lang.Thread/run"
     ]
    }
   ],
   "source": [
    ";; Pruebas:\n",
    "(raices [2 4 2]) ;; resultado -1 -1\n",
    "(raices [1 0 0]) ;; resultado  0 0\n",
    "(raices [4 5 1]) ;; resultado -1/4 -1"
   ]
  },
  {
   "cell_type": "markdown",
   "metadata": {},
   "source": [
    "---\n",
    "## Problema 5\n",
    "\n",
    "El $\\textit{IMC}$ (indice de masa de corporal) es utilizado para determinar si la proporción de peso y altura de una persona es el adecuado. El IMC se puede calcular como  sigue:\n",
    "\n",
    "$$\n",
    "\\textit{IMC} = \\frac{\\textit{peso}}{\\textit{altura}^2}\n",
    "$$\n",
    "\n",
    "Donde $\\textit{peso}$ se presenta en kilogramas y  $\\textit{altura}$ en metros. La siguiente tabla muestra como se clasifica el IMC de acuerdo a esta proporción como sigue: \n",
    "\n",
    "|rango IMC    |Descripción         |\n",
    "|:-----------:|:---------:         |\n",
    "|IMC < 20     |bajo de peso        |\n",
    "|20 ≤ IMC < 25|normal              |\n",
    "|25 ≤ IMC < 30|obesidad tipo 1     |\n",
    "|30 ≤ IMC < 40|obesidad tipo 2     | \n",
    "|40 ≤ IMC     |obesidad tipo 3     |\n",
    "\n",
    "Implementa una función llamada `imc` que reciba dos argumentos: $\\textit{peso}$ y $\\textit{altura}$. Y regrese un símbolo para representar la descripción de IMC correspondiente a los argumentos de entrada."
   ]
  },
  {
   "cell_type": "code",
   "execution_count": 266,
   "metadata": {},
   "outputs": [
    {
     "name": "stdout",
     "output_type": "stream",
     "text": [
      "15.570934256055365 nil\n",
      "24.444444444444443 nil\n",
      "26.29757785467128 nil\n",
      "31.640624999999993 nil\n",
      "46.87499999999999 nil\n"
     ]
    },
    {
     "data": {
      "text/plain": [
       "nil"
      ]
     },
     "execution_count": 266,
     "metadata": {},
     "output_type": "execute_result"
    }
   ],
   "source": [
    "(defn IMC [peso altura] \n",
    "    (println(/ peso (expt  altura 2))\n",
    "(if(= IMC \"imc\")\n",
    "    (cond\n",
    "        (< IMC 20)\n",
    "        (println \"bajo de peso\")\n",
    "        (or <= IMC 25 20 ) \n",
    "        (println \"normal\")\n",
    "        (or <= IMC 30 25) \n",
    "        (println \"obesidad tipo 1\")\n",
    "        (or <= IMC 40  30) \n",
    "        (println \"obesidad tipo 2\")\n",
    "        :else \n",
    "        (println \"Obesidad tipo 3\")\n",
    "        )  \n",
    "    )\n",
    "     \n",
    "  )  \n",
    ")\n",
    "(IMC 45 1.7)\n",
    "(IMC 55 1.5)\n",
    "(IMC 76 1.7)\n",
    "(IMC 81 1.6)\n",
    "(IMC 120 1.6)\n",
    "\n",
    "    "
   ]
  },
  {
   "cell_type": "code",
   "execution_count": null,
   "metadata": {},
   "outputs": [],
   "source": []
  }
 ],
 "metadata": {
  "kernelspec": {
   "display_name": "Clojure (clojupyter=0.3.2=1)",
   "language": "clojure",
   "name": "conda-clojupyter"
  },
  "language_info": {
   "file_extension": ".clj",
   "mimetype": "text/x-clojure",
   "name": "clojure",
   "version": "1.10.1"
  }
 },
 "nbformat": 4,
 "nbformat_minor": 4
}
