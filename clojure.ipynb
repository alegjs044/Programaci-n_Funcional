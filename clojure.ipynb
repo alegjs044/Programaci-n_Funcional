{
 "cells": [
  {
   "cell_type": "code",
   "execution_count": 20,
   "id": "bc16840c",
   "metadata": {},
   "outputs": [
    {
     "name": "stdout",
     "output_type": "stream",
     "text": [
      "Hola mundo desde Clojure\n",
      "Hola mundo desde Clojure\n"
     ]
    },
    {
     "data": {
      "text/plain": [
       "nil"
      ]
     },
     "execution_count": 20,
     "metadata": {},
     "output_type": "execute_result"
    }
   ],
   "source": [
    "(println (str \"Hola mundo\"  \" desde Clojure\"))\n",
    "(println \"Hola mundo desde Clojure\")"
   ]
  },
  {
   "cell_type": "code",
   "execution_count": 28,
   "id": "e35cdea5",
   "metadata": {},
   "outputs": [
    {
     "name": "stdout",
     "output_type": "stream",
     "text": [
      "Hola Ale\r\n"
     ]
    },
    {
     "data": {
      "text/plain": [
       "nil"
      ]
     },
     "execution_count": 28,
     "metadata": {},
     "output_type": "execute_result"
    }
   ],
   "source": [
    "(defn saludos[nombre]\n",
    "    (println \"Hola\"nombre))\n",
    "(saludos \"Ale\")"
   ]
  },
  {
   "cell_type": "code",
   "execution_count": 73,
   "id": "41342e82",
   "metadata": {
    "scrolled": true
   },
   "outputs": [
    {
     "name": "stdout",
     "output_type": "stream",
     "text": [
      " x= 5 \n",
      " y= 10 \n",
      " z= -8\r\n"
     ]
    },
    {
     "data": {
      "text/plain": [
       "nil"
      ]
     },
     "execution_count": 73,
     "metadata": {},
     "output_type": "execute_result"
    }
   ],
   "source": [
    "(defn variables[x y z]\n",
    "(println \" x=\"x \n",
    "       \"\\n y=\"y \n",
    "       \"\\n z=\"z))\n",
    "(variables 5 10 -8)\n"
   ]
  },
  {
   "cell_type": "code",
   "execution_count": 76,
   "id": "99518775",
   "metadata": {},
   "outputs": [
    {
     "name": "stdout",
     "output_type": "stream",
     "text": [
      " Suma= 7 \n",
      " Resta= 3 \n",
      " Multiplicacion= -400 \n",
      " Division= -1/16\r\n"
     ]
    },
    {
     "data": {
      "text/plain": [
       "nil"
      ]
     },
     "execution_count": 76,
     "metadata": {},
     "output_type": "execute_result"
    }
   ],
   "source": [
    "(def x 5)(def y 10)(def z -8)\n",
    "(println \" Suma=\"(+ x y z)\n",
    "         \"\\n Resta=\"(- x y z)\n",
    "         \"\\n Multiplicacion=\"(* x y z)\n",
    "         \"\\n Division=\"(/ x y z))\n"
   ]
  },
  {
   "cell_type": "code",
   "execution_count": 44,
   "id": "40b9d18a",
   "metadata": {
    "scrolled": true
   },
   "outputs": [
    {
     "data": {
      "text/plain": [
       "17/38"
      ]
     },
     "execution_count": 44,
     "metadata": {},
     "output_type": "execute_result"
    }
   ],
   "source": [
    "(/(+ 10 7)(-(* 5 8)2))"
   ]
  }
 ],
 "metadata": {
  "kernelspec": {
   "display_name": "Clojure (clojupyter=0.3.2=1)",
   "language": "clojure",
   "name": "conda-clojupyter"
  },
  "language_info": {
   "file_extension": ".clj",
   "mimetype": "text/x-clojure",
   "name": "clojure",
   "version": "1.10.1"
  }
 },
 "nbformat": 4,
 "nbformat_minor": 5
}
